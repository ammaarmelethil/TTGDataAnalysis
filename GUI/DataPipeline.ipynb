{
 "cells": [
  {
   "cell_type": "markdown",
   "source": [
    "# Retrieving Data From SQL Server"
   ],
   "metadata": {
    "collapsed": false
   },
   "id": "d3fa4d0420e26a48"
  },
  {
   "cell_type": "code",
   "execution_count": null,
   "outputs": [],
   "source": [
    "%%sql\n",
    "SELECT [When], [Level1%], [Level2%], [Side], [TH], [Strength], [Contracts], [Profit_Gross], [Profit_Net], [ SPX ], [ NDX ], [VIX], [SPY], [TLT] \n",
    "FROM CapUOC_DataAnalysis.dbo.Trades"
   ],
   "metadata": {
    "collapsed": false,
    "SqlCellData": {
     "data_source_name": "@TTGDB",
     "variableName$1": "Trade_df"
    },
    "ExecuteTime": {
     "end_time": "2024-03-10T22:54:27.539325Z",
     "start_time": "2024-03-10T22:54:27.008306Z"
    }
   },
   "id": "d8a706b6ab68819b"
  },
  {
   "cell_type": "markdown",
   "source": [
    "# Cleaning Data"
   ],
   "metadata": {
    "collapsed": false
   },
   "id": "dc5a6547e63bf231"
  },
  {
   "cell_type": "code",
   "execution_count": 19,
   "outputs": [
    {
     "data": {
      "text/plain": "When            datetime64[ns]\nLevel1%                 object\nLevel2%                 object\nSide                    object\nTH                       int64\nStrength                 int64\nContracts                int64\nProfit_Gross             int64\nProfit_Net             float64\n SPX                   float64\n NDX                   float64\nVIX                    float64\nSPY                    float64\nTLT                    float64\n SPX _Change           float64\n NDX _Change           float64\nVIX_Change             float64\nSPY_Change             float64\nTLT_Change             float64\ndtype: object"
     },
     "execution_count": 19,
     "metadata": {},
     "output_type": "execute_result"
    }
   ],
   "source": [
    "import pandas as pd\n",
    "Trade_df['When'] = pd.to_datetime(Trade_df['When'])\n",
    "market_cols = [' SPX ', ' NDX ', 'VIX', 'SPY', 'TLT']\n",
    "\n",
    "# Convert Market Data Columns to Floats\n",
    "for col in market_cols:\n",
    "    Trade_df[col] = pd.to_numeric(Trade_df[col], errors='coerce')\n",
    "\n",
    "# Calculating rate of change\n",
    "for col in market_cols:\n",
    "    Trade_df[f'{col}_Change'] = Trade_df[col].pct_change()\n",
    "\n",
    "\n",
    "Trade_df.replace(['#VALUE!', '#DIV/0!'], pd.NA, inplace=True)  # Replace with NA\n",
    "Trade_df.dropna(inplace=True)  # Drop rows with NA\n",
    "\n",
    "# Convert 'Gross Profit' to numeric\n",
    "Trade_df['Profit_Gross'] = pd.to_numeric(Trade_df['Profit_Gross'])\n",
    "\n",
    "# Convert 'Net Profit' to numeric\n",
    "Trade_df['Profit_Net'] = pd.to_numeric(Trade_df['Profit_Net'])\n",
    "\n",
    "Trade_df.dtypes\n",
    "\n"
   ],
   "metadata": {
    "collapsed": false,
    "ExecuteTime": {
     "end_time": "2024-03-10T22:54:58.131468Z",
     "start_time": "2024-03-10T22:54:58.106259Z"
    }
   },
   "id": "8f9322ccadced60"
  },
  {
   "cell_type": "code",
   "execution_count": 20,
   "outputs": [],
   "source": [
    "import pickle\n",
    "\n",
    "with open('my_dataframe.pkl', 'wb') as file:\n",
    "    pickle.dump(Trade_df, file)"
   ],
   "metadata": {
    "collapsed": false,
    "ExecuteTime": {
     "end_time": "2024-03-10T22:55:06.133628Z",
     "start_time": "2024-03-10T22:55:06.127302Z"
    }
   },
   "id": "12e56e21cf1e7b91"
  },
  {
   "cell_type": "code",
   "execution_count": 22,
   "outputs": [
    {
     "data": {
      "text/plain": "                                When           TH     Strength    Contracts  \\\ncount                           8241  8241.000000  8241.000000  8241.000000   \nmean   2023-04-18 13:46:30.149253888     1.295231    92.845528     1.920398   \nmin              2022-05-27 13:56:00     0.000000     5.000000     1.000000   \n25%              2023-01-11 11:14:00     0.000000    35.000000     1.000000   \n50%              2023-04-13 09:37:00     0.000000    65.000000     1.000000   \n75%              2023-08-18 12:47:00     1.000000   125.000000     3.000000   \nmax              2023-12-28 08:41:00    55.000000   466.000000    12.000000   \nstd                              NaN     3.858428    72.839222     1.367878   \n\n       Profit_Gross   Profit_Net         SPX           NDX           VIX  \\\ncount   8241.000000  8241.000000  8241.000000   8241.000000  8241.000000   \nmean       3.036767     2.396691  4146.907254  13392.900438    20.180193   \nmin      -76.000000   -77.170000  3578.970000  10683.150000    12.000000   \n25%        0.000000     0.000000  3930.080000  12003.720000    16.400000   \n50%        0.000000     0.000000  4123.580000  13043.410000    19.140000   \n75%        3.000000     2.020000  4365.100000  14899.480000    24.110000   \nmax      245.000000   243.550000  4791.560000  16948.070000    33.970000   \nstd        7.692638     7.452895   276.275017   1645.911692     5.271306   \n\n               SPY          TLT   SPX _Change   NDX _Change   VIX_Change  \\\ncount  8241.000000  8241.000000   8241.000000    8241.00000  8241.000000   \nmean    413.742735   100.582666     -0.000014      -0.00003     0.000167   \nmin     356.670000    13.230000     -0.039333      -0.04927    -0.177749   \n25%     392.290000    95.500000      0.000000       0.00000     0.000000   \n50%     411.360000   102.060000      0.000000       0.00000     0.000000   \n75%     435.410000   105.840000      0.000000       0.00000     0.000000   \nmax     477.300000   120.640000      0.125703       0.11813     0.138695   \nstd      27.510331     9.029492      0.002692       0.00331     0.012549   \n\n        SPY_Change   TLT_Change  \ncount  8241.000000  8241.000000  \nmean     -0.000013     0.001403  \nmin      -0.036976    -0.869295  \n25%       0.000000     0.000000  \n50%       0.000000     0.000000  \n75%       0.000000     0.000000  \nmax       0.129185     6.656841  \nstd       0.002743     0.094085  ",
      "text/html": "<div>\n<style scoped>\n    .dataframe tbody tr th:only-of-type {\n        vertical-align: middle;\n    }\n\n    .dataframe tbody tr th {\n        vertical-align: top;\n    }\n\n    .dataframe thead th {\n        text-align: right;\n    }\n</style>\n<table border=\"1\" class=\"dataframe\">\n  <thead>\n    <tr style=\"text-align: right;\">\n      <th></th>\n      <th>When</th>\n      <th>TH</th>\n      <th>Strength</th>\n      <th>Contracts</th>\n      <th>Profit_Gross</th>\n      <th>Profit_Net</th>\n      <th>SPX</th>\n      <th>NDX</th>\n      <th>VIX</th>\n      <th>SPY</th>\n      <th>TLT</th>\n      <th>SPX _Change</th>\n      <th>NDX _Change</th>\n      <th>VIX_Change</th>\n      <th>SPY_Change</th>\n      <th>TLT_Change</th>\n    </tr>\n  </thead>\n  <tbody>\n    <tr>\n      <th>count</th>\n      <td>8241</td>\n      <td>8241.000000</td>\n      <td>8241.000000</td>\n      <td>8241.000000</td>\n      <td>8241.000000</td>\n      <td>8241.000000</td>\n      <td>8241.000000</td>\n      <td>8241.000000</td>\n      <td>8241.000000</td>\n      <td>8241.000000</td>\n      <td>8241.000000</td>\n      <td>8241.000000</td>\n      <td>8241.00000</td>\n      <td>8241.000000</td>\n      <td>8241.000000</td>\n      <td>8241.000000</td>\n    </tr>\n    <tr>\n      <th>mean</th>\n      <td>2023-04-18 13:46:30.149253888</td>\n      <td>1.295231</td>\n      <td>92.845528</td>\n      <td>1.920398</td>\n      <td>3.036767</td>\n      <td>2.396691</td>\n      <td>4146.907254</td>\n      <td>13392.900438</td>\n      <td>20.180193</td>\n      <td>413.742735</td>\n      <td>100.582666</td>\n      <td>-0.000014</td>\n      <td>-0.00003</td>\n      <td>0.000167</td>\n      <td>-0.000013</td>\n      <td>0.001403</td>\n    </tr>\n    <tr>\n      <th>min</th>\n      <td>2022-05-27 13:56:00</td>\n      <td>0.000000</td>\n      <td>5.000000</td>\n      <td>1.000000</td>\n      <td>-76.000000</td>\n      <td>-77.170000</td>\n      <td>3578.970000</td>\n      <td>10683.150000</td>\n      <td>12.000000</td>\n      <td>356.670000</td>\n      <td>13.230000</td>\n      <td>-0.039333</td>\n      <td>-0.04927</td>\n      <td>-0.177749</td>\n      <td>-0.036976</td>\n      <td>-0.869295</td>\n    </tr>\n    <tr>\n      <th>25%</th>\n      <td>2023-01-11 11:14:00</td>\n      <td>0.000000</td>\n      <td>35.000000</td>\n      <td>1.000000</td>\n      <td>0.000000</td>\n      <td>0.000000</td>\n      <td>3930.080000</td>\n      <td>12003.720000</td>\n      <td>16.400000</td>\n      <td>392.290000</td>\n      <td>95.500000</td>\n      <td>0.000000</td>\n      <td>0.00000</td>\n      <td>0.000000</td>\n      <td>0.000000</td>\n      <td>0.000000</td>\n    </tr>\n    <tr>\n      <th>50%</th>\n      <td>2023-04-13 09:37:00</td>\n      <td>0.000000</td>\n      <td>65.000000</td>\n      <td>1.000000</td>\n      <td>0.000000</td>\n      <td>0.000000</td>\n      <td>4123.580000</td>\n      <td>13043.410000</td>\n      <td>19.140000</td>\n      <td>411.360000</td>\n      <td>102.060000</td>\n      <td>0.000000</td>\n      <td>0.00000</td>\n      <td>0.000000</td>\n      <td>0.000000</td>\n      <td>0.000000</td>\n    </tr>\n    <tr>\n      <th>75%</th>\n      <td>2023-08-18 12:47:00</td>\n      <td>1.000000</td>\n      <td>125.000000</td>\n      <td>3.000000</td>\n      <td>3.000000</td>\n      <td>2.020000</td>\n      <td>4365.100000</td>\n      <td>14899.480000</td>\n      <td>24.110000</td>\n      <td>435.410000</td>\n      <td>105.840000</td>\n      <td>0.000000</td>\n      <td>0.00000</td>\n      <td>0.000000</td>\n      <td>0.000000</td>\n      <td>0.000000</td>\n    </tr>\n    <tr>\n      <th>max</th>\n      <td>2023-12-28 08:41:00</td>\n      <td>55.000000</td>\n      <td>466.000000</td>\n      <td>12.000000</td>\n      <td>245.000000</td>\n      <td>243.550000</td>\n      <td>4791.560000</td>\n      <td>16948.070000</td>\n      <td>33.970000</td>\n      <td>477.300000</td>\n      <td>120.640000</td>\n      <td>0.125703</td>\n      <td>0.11813</td>\n      <td>0.138695</td>\n      <td>0.129185</td>\n      <td>6.656841</td>\n    </tr>\n    <tr>\n      <th>std</th>\n      <td>NaN</td>\n      <td>3.858428</td>\n      <td>72.839222</td>\n      <td>1.367878</td>\n      <td>7.692638</td>\n      <td>7.452895</td>\n      <td>276.275017</td>\n      <td>1645.911692</td>\n      <td>5.271306</td>\n      <td>27.510331</td>\n      <td>9.029492</td>\n      <td>0.002692</td>\n      <td>0.00331</td>\n      <td>0.012549</td>\n      <td>0.002743</td>\n      <td>0.094085</td>\n    </tr>\n  </tbody>\n</table>\n</div>"
     },
     "execution_count": 22,
     "metadata": {},
     "output_type": "execute_result"
    }
   ],
   "source": [
    "Trade_df.describe()"
   ],
   "metadata": {
    "collapsed": false,
    "ExecuteTime": {
     "end_time": "2024-03-11T00:06:49.193186Z",
     "start_time": "2024-03-11T00:06:49.069762Z"
    }
   },
   "id": "6e52b1bd1a8a9a9a"
  }
 ],
 "metadata": {
  "kernelspec": {
   "display_name": "Python 3",
   "language": "python",
   "name": "python3"
  },
  "language_info": {
   "codemirror_mode": {
    "name": "ipython",
    "version": 2
   },
   "file_extension": ".py",
   "mimetype": "text/x-python",
   "name": "python",
   "nbconvert_exporter": "python",
   "pygments_lexer": "ipython2",
   "version": "2.7.6"
  }
 },
 "nbformat": 4,
 "nbformat_minor": 5
}
